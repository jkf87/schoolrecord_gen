{
  "nbformat": 4,
  "nbformat_minor": 0,
  "metadata": {
    "colab": {
      "private_outputs": true,
      "provenance": [],
      "authorship_tag": "ABX9TyO3e5Cac7vh0XOzD5CqGfF6",
      "include_colab_link": true
    },
    "kernelspec": {
      "name": "python3",
      "display_name": "Python 3"
    },
    "language_info": {
      "name": "python"
    }
  },
  "cells": [
    {
      "cell_type": "markdown",
      "metadata": {
        "id": "view-in-github",
        "colab_type": "text"
      },
      "source": [
        "<a href=\"https://colab.research.google.com/github/jkf87/schoolrecord_gen/blob/main/%EC%84%B1%EC%B7%A8%EA%B8%B0%EC%A4%80%EC%9D%84_%EB%94%95%EC%85%94%EB%84%88%EB%A6%AC%EB%A1%9C.ipynb\" target=\"_parent\"><img src=\"https://colab.research.google.com/assets/colab-badge.svg\" alt=\"Open In Colab\"/></a>"
      ]
    },
    {
      "cell_type": "code",
      "execution_count": null,
      "metadata": {
        "id": "skaWxxuuwyxl"
      },
      "outputs": [],
      "source": [
        "import re\n",
        "\n",
        "# 지정된 형식에 맞는 패턴 (국 두 글자 중 하나를 포함하는)\n",
        "pattern = r\"\\[\\d{1,2}[가-힣]\\d{2}-\\d{2}\\].*?\\.\"\n"
      ]
    },
    {
      "cell_type": "code",
      "source": [
        "# 텍스트 파일에서 데이터를 읽어옵니다.\n",
        "with open('text.txt', 'r', encoding='utf-8') as file:\n",
        "    text_data = file.read()\n"
      ],
      "metadata": {
        "id": "Nly2D_Bsz2Il"
      },
      "execution_count": null,
      "outputs": []
    },
    {
      "cell_type": "code",
      "source": [
        "# 텍스트 데이터에서 패턴에 맞는 데이터를 추출합니다.\n",
        "matches = re.findall(pattern, text_data)\n"
      ],
      "metadata": {
        "id": "BXth8vOwy6s0"
      },
      "execution_count": null,
      "outputs": []
    },
    {
      "cell_type": "code",
      "source": [
        "# 추출된 데이터를 출력합니다.\n",
        "for match in matches[:1000]:\n",
        "    print(match)"
      ],
      "metadata": {
        "id": "5akK4UCXz7XT"
      },
      "execution_count": null,
      "outputs": []
    },
    {
      "cell_type": "code",
      "source": [
        "# 과목 코드를 과목명으로 매핑하는 사전\n",
        "subject_mapping = {\n",
        "    \"국\": \"국어\",\n",
        "    \"수\": \"수학\",\n",
        "    \"사\": \"사회\",\n",
        "    \"과\": \"과학\",\n",
        "    \"영\": \"영어\",\n",
        "    \"음\": \"음악\",\n",
        "    \"미\": \"미술\",\n",
        "    \"체\": \"체육\",\n",
        "    \"실\": \"실과\",\n",
        "    \"도\": \"도덕\"\n",
        "}\n",
        "\n",
        "# 결과를 저장할 딕셔너리\n",
        "result_dict = {\n",
        "    \"1~2학년군\": {subject: [] for subject in subject_mapping.values()},\n",
        "    \"3~4학년군\": {subject: [] for subject in subject_mapping.values()},\n",
        "    \"5~6학년군\": {subject: [] for subject in subject_mapping.values()},\n",
        "}\n",
        "\n",
        "# 데이터를 딕셔너리에 분류하는 함수\n",
        "def classify_data_to_dict(matches, result_dict):\n",
        "    for data in matches:\n",
        "        # 데이터에서 학년군과 과목 코드 추출\n",
        "        grade_group_code = data[1]\n",
        "        subject_code = data[2]\n",
        "\n",
        "        # 과목명과 학년군 결정\n",
        "        subject = subject_mapping.get(subject_code, \"알 수 없음\")\n",
        "        if grade_group_code in [\"1\", \"2\"]:\n",
        "            grade_group = \"1~2학년군\"\n",
        "        elif grade_group_code in [\"3\", \"4\"]:\n",
        "            grade_group = \"3~4학년군\"\n",
        "        elif grade_group_code in [\"5\", \"6\"]:\n",
        "            grade_group = \"5~6학년군\"\n",
        "        else:\n",
        "            grade_group = \"알 수 없음\"\n",
        "\n",
        "        # 해당 학년군과 과목에 데이터 추가\n",
        "        if subject in result_dict[grade_group]:\n",
        "            result_dict[grade_group][subject].append(data)\n",
        "\n",
        "    return result_dict\n",
        "\n",
        "# 함수 실행\n",
        "final_dict = classify_data_to_dict(matches, result_dict)\n",
        "print(final_dict)\n"
      ],
      "metadata": {
        "id": "4DYnZIjrddCk"
      },
      "execution_count": null,
      "outputs": []
    },
    {
      "cell_type": "code",
      "source": [
        "import json\n",
        "\n",
        "# 함수 수정: 딕셔너리 내의 모든 문자열에서 \\t 제거\n",
        "def remove_tabs_from_dict(d):\n",
        "    for key, value in d.items():\n",
        "        if isinstance(value, list):\n",
        "            d[key] = [x.replace(\"\\t\", \"\") for x in value]\n",
        "        elif isinstance(value, dict):\n",
        "            remove_tabs_from_dict(value)\n",
        "\n",
        "# \\t를 제거한 딕셔너리 생성\n",
        "remove_tabs_from_dict(final_dict)\n",
        "\n",
        "# 딕셔너리를 JSON 형태로 변환\n",
        "json_string = json.dumps(final_dict, ensure_ascii=False, indent=4)\n",
        "\n",
        "# 파일로 저장\n",
        "with open('result1.txt', 'w', encoding='utf-8') as file:\n",
        "    file.write(json_string)\n",
        "\n",
        "print(\"결과가 result1.txt 파일로 저장되었습니다.\")\n"
      ],
      "metadata": {
        "id": "eX6rGZRtfcWb"
      },
      "execution_count": null,
      "outputs": []
    }
  ]
}